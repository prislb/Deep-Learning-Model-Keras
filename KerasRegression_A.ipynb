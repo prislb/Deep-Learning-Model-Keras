{
 "cells": [
  {
   "cell_type": "markdown",
   "id": "5e1471e4",
   "metadata": {},
   "source": [
    "<div align=\"center\"> <h1 align=\"center\"> REGRESSION USING KERAS </h1> </div>"
   ]
  },
  {
   "cell_type": "markdown",
   "id": "d99afe66",
   "metadata": {},
   "source": [
    "### This case study consists of building a regression model using the Keras library to model data about concrete's compressive strength. The goal is to experiment with building a neural network by increasing the number of training epochs and changing number of hidden layers and to observe how changing these parameters impacts the performance of the model.\n",
    "\n",
    "\n",
    "### The data we are using contains information on the compressive strength of different samples of concrete based on the volumes of the different ingredients that were used to make them."
   ]
  },
  {
   "cell_type": "markdown",
   "id": "e789208c",
   "metadata": {},
   "source": [
    "<div align=\"center\"> <h1 align=\"center\"> PART A </h1> </div>"
   ]
  },
  {
   "cell_type": "markdown",
   "id": "422d63b9",
   "metadata": {},
   "source": [
    "## 1. Install necessary packages"
   ]
  },
  {
   "cell_type": "code",
   "execution_count": 7,
   "id": "a82878ec",
   "metadata": {
    "collapsed": true
   },
   "outputs": [
    {
     "name": "stdout",
     "output_type": "stream",
     "text": [
      "Requirement already satisfied: numpy==1.21.4 in /Library/Frameworks/Python.framework/Versions/3.10/lib/python3.10/site-packages (1.21.4)\n",
      "Requirement already satisfied: pandas==1.3.4 in /Library/Frameworks/Python.framework/Versions/3.10/lib/python3.10/site-packages (1.3.4)\n",
      "Requirement already satisfied: python-dateutil>=2.7.3 in /Library/Frameworks/Python.framework/Versions/3.10/lib/python3.10/site-packages (from pandas==1.3.4) (2.8.2)\n",
      "Requirement already satisfied: numpy>=1.21.0 in /Library/Frameworks/Python.framework/Versions/3.10/lib/python3.10/site-packages (from pandas==1.3.4) (1.21.4)\n",
      "Requirement already satisfied: pytz>=2017.3 in /Library/Frameworks/Python.framework/Versions/3.10/lib/python3.10/site-packages (from pandas==1.3.4) (2021.3)\n",
      "Requirement already satisfied: six>=1.5 in /Library/Frameworks/Python.framework/Versions/3.10/lib/python3.10/site-packages (from python-dateutil>=2.7.3->pandas==1.3.4) (1.16.0)\n",
      "Collecting keras==2.1.6\n",
      "  Using cached Keras-2.1.6-py2.py3-none-any.whl (339 kB)\n",
      "Requirement already satisfied: numpy>=1.9.1 in /Library/Frameworks/Python.framework/Versions/3.10/lib/python3.10/site-packages (from keras==2.1.6) (1.21.4)\n",
      "Requirement already satisfied: scipy>=0.14 in /Library/Frameworks/Python.framework/Versions/3.10/lib/python3.10/site-packages (from keras==2.1.6) (1.8.0)\n",
      "Requirement already satisfied: h5py in /Library/Frameworks/Python.framework/Versions/3.10/lib/python3.10/site-packages (from keras==2.1.6) (3.6.0)\n",
      "Requirement already satisfied: six>=1.9.0 in /Library/Frameworks/Python.framework/Versions/3.10/lib/python3.10/site-packages (from keras==2.1.6) (1.16.0)\n",
      "Requirement already satisfied: pyyaml in /Library/Frameworks/Python.framework/Versions/3.10/lib/python3.10/site-packages (from keras==2.1.6) (6.0)\n",
      "Installing collected packages: keras\n",
      "  Attempting uninstall: keras\n",
      "    Found existing installation: keras 2.8.0\n",
      "    Uninstalling keras-2.8.0:\n",
      "      Successfully uninstalled keras-2.8.0\n",
      "\u001b[31mERROR: pip's dependency resolver does not currently take into account all the packages that are installed. This behaviour is the source of the following dependency conflicts.\n",
      "tensorflow 2.8.0 requires keras<2.9,>=2.8.0rc0, but you have keras 2.1.6 which is incompatible.\u001b[0m\u001b[31m\n",
      "\u001b[0mSuccessfully installed keras-2.1.6\n",
      "Requirement already satisfied: sklearn in /Library/Frameworks/Python.framework/Versions/3.10/lib/python3.10/site-packages (0.0)\n",
      "Requirement already satisfied: scikit-learn in /Library/Frameworks/Python.framework/Versions/3.10/lib/python3.10/site-packages (from sklearn) (1.0.2)\n",
      "Requirement already satisfied: scipy>=1.1.0 in /Library/Frameworks/Python.framework/Versions/3.10/lib/python3.10/site-packages (from scikit-learn->sklearn) (1.8.0)\n",
      "Requirement already satisfied: numpy>=1.14.6 in /Library/Frameworks/Python.framework/Versions/3.10/lib/python3.10/site-packages (from scikit-learn->sklearn) (1.21.4)\n",
      "Requirement already satisfied: joblib>=0.11 in /Library/Frameworks/Python.framework/Versions/3.10/lib/python3.10/site-packages (from scikit-learn->sklearn) (1.1.0)\n",
      "Requirement already satisfied: threadpoolctl>=2.0.0 in /Library/Frameworks/Python.framework/Versions/3.10/lib/python3.10/site-packages (from scikit-learn->sklearn) (3.1.0)\n"
     ]
    }
   ],
   "source": [
    "!pip install numpy==1.21.4\n",
    "!pip install pandas==1.3.4\n",
    "!pip install keras==2.1.6\n",
    "!pip install sklearn"
   ]
  },
  {
   "cell_type": "markdown",
   "id": "f542ea56",
   "metadata": {},
   "source": [
    "## 2. Import necessary libraries"
   ]
  },
  {
   "cell_type": "code",
   "execution_count": 8,
   "id": "0fd92d08",
   "metadata": {},
   "outputs": [],
   "source": [
    "import pandas as pd\n",
    "import numpy as np"
   ]
  },
  {
   "cell_type": "markdown",
   "id": "d4b1638d",
   "metadata": {},
   "source": [
    "## 3. Read in data and save dataframe"
   ]
  },
  {
   "cell_type": "code",
   "execution_count": 9,
   "id": "bc026ce7",
   "metadata": {},
   "outputs": [
    {
     "data": {
      "text/html": [
       "<div>\n",
       "<style scoped>\n",
       "    .dataframe tbody tr th:only-of-type {\n",
       "        vertical-align: middle;\n",
       "    }\n",
       "\n",
       "    .dataframe tbody tr th {\n",
       "        vertical-align: top;\n",
       "    }\n",
       "\n",
       "    .dataframe thead th {\n",
       "        text-align: right;\n",
       "    }\n",
       "</style>\n",
       "<table border=\"1\" class=\"dataframe\">\n",
       "  <thead>\n",
       "    <tr style=\"text-align: right;\">\n",
       "      <th></th>\n",
       "      <th>Cement</th>\n",
       "      <th>Blast Furnace Slag</th>\n",
       "      <th>Fly Ash</th>\n",
       "      <th>Water</th>\n",
       "      <th>Superplasticizer</th>\n",
       "      <th>Coarse Aggregate</th>\n",
       "      <th>Fine Aggregate</th>\n",
       "      <th>Age</th>\n",
       "      <th>Strength</th>\n",
       "    </tr>\n",
       "  </thead>\n",
       "  <tbody>\n",
       "    <tr>\n",
       "      <th>0</th>\n",
       "      <td>540.0</td>\n",
       "      <td>0.0</td>\n",
       "      <td>0.0</td>\n",
       "      <td>162.0</td>\n",
       "      <td>2.5</td>\n",
       "      <td>1040.0</td>\n",
       "      <td>676.0</td>\n",
       "      <td>28</td>\n",
       "      <td>79.99</td>\n",
       "    </tr>\n",
       "    <tr>\n",
       "      <th>1</th>\n",
       "      <td>540.0</td>\n",
       "      <td>0.0</td>\n",
       "      <td>0.0</td>\n",
       "      <td>162.0</td>\n",
       "      <td>2.5</td>\n",
       "      <td>1055.0</td>\n",
       "      <td>676.0</td>\n",
       "      <td>28</td>\n",
       "      <td>61.89</td>\n",
       "    </tr>\n",
       "    <tr>\n",
       "      <th>2</th>\n",
       "      <td>332.5</td>\n",
       "      <td>142.5</td>\n",
       "      <td>0.0</td>\n",
       "      <td>228.0</td>\n",
       "      <td>0.0</td>\n",
       "      <td>932.0</td>\n",
       "      <td>594.0</td>\n",
       "      <td>270</td>\n",
       "      <td>40.27</td>\n",
       "    </tr>\n",
       "    <tr>\n",
       "      <th>3</th>\n",
       "      <td>332.5</td>\n",
       "      <td>142.5</td>\n",
       "      <td>0.0</td>\n",
       "      <td>228.0</td>\n",
       "      <td>0.0</td>\n",
       "      <td>932.0</td>\n",
       "      <td>594.0</td>\n",
       "      <td>365</td>\n",
       "      <td>41.05</td>\n",
       "    </tr>\n",
       "    <tr>\n",
       "      <th>4</th>\n",
       "      <td>198.6</td>\n",
       "      <td>132.4</td>\n",
       "      <td>0.0</td>\n",
       "      <td>192.0</td>\n",
       "      <td>0.0</td>\n",
       "      <td>978.4</td>\n",
       "      <td>825.5</td>\n",
       "      <td>360</td>\n",
       "      <td>44.30</td>\n",
       "    </tr>\n",
       "  </tbody>\n",
       "</table>\n",
       "</div>"
      ],
      "text/plain": [
       "   Cement  Blast Furnace Slag  Fly Ash  Water  Superplasticizer  \\\n",
       "0   540.0                 0.0      0.0  162.0               2.5   \n",
       "1   540.0                 0.0      0.0  162.0               2.5   \n",
       "2   332.5               142.5      0.0  228.0               0.0   \n",
       "3   332.5               142.5      0.0  228.0               0.0   \n",
       "4   198.6               132.4      0.0  192.0               0.0   \n",
       "\n",
       "   Coarse Aggregate  Fine Aggregate  Age  Strength  \n",
       "0            1040.0           676.0   28     79.99  \n",
       "1            1055.0           676.0   28     61.89  \n",
       "2             932.0           594.0  270     40.27  \n",
       "3             932.0           594.0  365     41.05  \n",
       "4             978.4           825.5  360     44.30  "
      ]
     },
     "execution_count": 9,
     "metadata": {},
     "output_type": "execute_result"
    }
   ],
   "source": [
    "cd = pd.read_csv (r'/Users/priscilalopez-beltran/Desktop/PY4E/Keras DL model capstone/concrete_data.csv')\n",
    "cd.head() # concrete data -> cd"
   ]
  },
  {
   "cell_type": "markdown",
   "id": "0f04f5c7",
   "metadata": {},
   "source": [
    "## 4. Check integrity of data\n",
    "\n",
    "**4.1. Number of data points**  \n",
    "   Not a big data set (n= 1030.00), therefore we must be careful not to overfit the training data. "
   ]
  },
  {
   "cell_type": "code",
   "execution_count": 10,
   "id": "2020d416",
   "metadata": {
    "scrolled": true
   },
   "outputs": [
    {
     "data": {
      "text/html": [
       "<div>\n",
       "<style scoped>\n",
       "    .dataframe tbody tr th:only-of-type {\n",
       "        vertical-align: middle;\n",
       "    }\n",
       "\n",
       "    .dataframe tbody tr th {\n",
       "        vertical-align: top;\n",
       "    }\n",
       "\n",
       "    .dataframe thead th {\n",
       "        text-align: right;\n",
       "    }\n",
       "</style>\n",
       "<table border=\"1\" class=\"dataframe\">\n",
       "  <thead>\n",
       "    <tr style=\"text-align: right;\">\n",
       "      <th></th>\n",
       "      <th>Cement</th>\n",
       "      <th>Blast Furnace Slag</th>\n",
       "      <th>Fly Ash</th>\n",
       "      <th>Water</th>\n",
       "      <th>Superplasticizer</th>\n",
       "      <th>Coarse Aggregate</th>\n",
       "      <th>Fine Aggregate</th>\n",
       "      <th>Age</th>\n",
       "      <th>Strength</th>\n",
       "    </tr>\n",
       "  </thead>\n",
       "  <tbody>\n",
       "    <tr>\n",
       "      <th>count</th>\n",
       "      <td>1030.000000</td>\n",
       "      <td>1030.000000</td>\n",
       "      <td>1030.000000</td>\n",
       "      <td>1030.000000</td>\n",
       "      <td>1030.000000</td>\n",
       "      <td>1030.000000</td>\n",
       "      <td>1030.000000</td>\n",
       "      <td>1030.000000</td>\n",
       "      <td>1030.000000</td>\n",
       "    </tr>\n",
       "    <tr>\n",
       "      <th>mean</th>\n",
       "      <td>281.167864</td>\n",
       "      <td>73.895825</td>\n",
       "      <td>54.188350</td>\n",
       "      <td>181.567282</td>\n",
       "      <td>6.204660</td>\n",
       "      <td>972.918932</td>\n",
       "      <td>773.580485</td>\n",
       "      <td>45.662136</td>\n",
       "      <td>35.817961</td>\n",
       "    </tr>\n",
       "    <tr>\n",
       "      <th>std</th>\n",
       "      <td>104.506364</td>\n",
       "      <td>86.279342</td>\n",
       "      <td>63.997004</td>\n",
       "      <td>21.354219</td>\n",
       "      <td>5.973841</td>\n",
       "      <td>77.753954</td>\n",
       "      <td>80.175980</td>\n",
       "      <td>63.169912</td>\n",
       "      <td>16.705742</td>\n",
       "    </tr>\n",
       "    <tr>\n",
       "      <th>min</th>\n",
       "      <td>102.000000</td>\n",
       "      <td>0.000000</td>\n",
       "      <td>0.000000</td>\n",
       "      <td>121.800000</td>\n",
       "      <td>0.000000</td>\n",
       "      <td>801.000000</td>\n",
       "      <td>594.000000</td>\n",
       "      <td>1.000000</td>\n",
       "      <td>2.330000</td>\n",
       "    </tr>\n",
       "    <tr>\n",
       "      <th>25%</th>\n",
       "      <td>192.375000</td>\n",
       "      <td>0.000000</td>\n",
       "      <td>0.000000</td>\n",
       "      <td>164.900000</td>\n",
       "      <td>0.000000</td>\n",
       "      <td>932.000000</td>\n",
       "      <td>730.950000</td>\n",
       "      <td>7.000000</td>\n",
       "      <td>23.710000</td>\n",
       "    </tr>\n",
       "    <tr>\n",
       "      <th>50%</th>\n",
       "      <td>272.900000</td>\n",
       "      <td>22.000000</td>\n",
       "      <td>0.000000</td>\n",
       "      <td>185.000000</td>\n",
       "      <td>6.400000</td>\n",
       "      <td>968.000000</td>\n",
       "      <td>779.500000</td>\n",
       "      <td>28.000000</td>\n",
       "      <td>34.445000</td>\n",
       "    </tr>\n",
       "    <tr>\n",
       "      <th>75%</th>\n",
       "      <td>350.000000</td>\n",
       "      <td>142.950000</td>\n",
       "      <td>118.300000</td>\n",
       "      <td>192.000000</td>\n",
       "      <td>10.200000</td>\n",
       "      <td>1029.400000</td>\n",
       "      <td>824.000000</td>\n",
       "      <td>56.000000</td>\n",
       "      <td>46.135000</td>\n",
       "    </tr>\n",
       "    <tr>\n",
       "      <th>max</th>\n",
       "      <td>540.000000</td>\n",
       "      <td>359.400000</td>\n",
       "      <td>200.100000</td>\n",
       "      <td>247.000000</td>\n",
       "      <td>32.200000</td>\n",
       "      <td>1145.000000</td>\n",
       "      <td>992.600000</td>\n",
       "      <td>365.000000</td>\n",
       "      <td>82.600000</td>\n",
       "    </tr>\n",
       "  </tbody>\n",
       "</table>\n",
       "</div>"
      ],
      "text/plain": [
       "            Cement  Blast Furnace Slag      Fly Ash        Water  \\\n",
       "count  1030.000000         1030.000000  1030.000000  1030.000000   \n",
       "mean    281.167864           73.895825    54.188350   181.567282   \n",
       "std     104.506364           86.279342    63.997004    21.354219   \n",
       "min     102.000000            0.000000     0.000000   121.800000   \n",
       "25%     192.375000            0.000000     0.000000   164.900000   \n",
       "50%     272.900000           22.000000     0.000000   185.000000   \n",
       "75%     350.000000          142.950000   118.300000   192.000000   \n",
       "max     540.000000          359.400000   200.100000   247.000000   \n",
       "\n",
       "       Superplasticizer  Coarse Aggregate  Fine Aggregate          Age  \\\n",
       "count       1030.000000       1030.000000     1030.000000  1030.000000   \n",
       "mean           6.204660        972.918932      773.580485    45.662136   \n",
       "std            5.973841         77.753954       80.175980    63.169912   \n",
       "min            0.000000        801.000000      594.000000     1.000000   \n",
       "25%            0.000000        932.000000      730.950000     7.000000   \n",
       "50%            6.400000        968.000000      779.500000    28.000000   \n",
       "75%           10.200000       1029.400000      824.000000    56.000000   \n",
       "max           32.200000       1145.000000      992.600000   365.000000   \n",
       "\n",
       "          Strength  \n",
       "count  1030.000000  \n",
       "mean     35.817961  \n",
       "std      16.705742  \n",
       "min       2.330000  \n",
       "25%      23.710000  \n",
       "50%      34.445000  \n",
       "75%      46.135000  \n",
       "max      82.600000  "
      ]
     },
     "execution_count": 10,
     "metadata": {},
     "output_type": "execute_result"
    }
   ],
   "source": [
    "cd.describe()"
   ]
  },
  {
   "cell_type": "markdown",
   "id": "62cf4113",
   "metadata": {},
   "source": [
    "**4.2. Check for missing values**  \n",
    "No missing values in the data"
   ]
  },
  {
   "cell_type": "code",
   "execution_count": 11,
   "id": "0da14632",
   "metadata": {},
   "outputs": [
    {
     "data": {
      "text/plain": [
       "Cement                0\n",
       "Blast Furnace Slag    0\n",
       "Fly Ash               0\n",
       "Water                 0\n",
       "Superplasticizer      0\n",
       "Coarse Aggregate      0\n",
       "Fine Aggregate        0\n",
       "Age                   0\n",
       "Strength              0\n",
       "dtype: int64"
      ]
     },
     "execution_count": 11,
     "metadata": {},
     "output_type": "execute_result"
    }
   ],
   "source": [
    "cd.isnull().sum()"
   ]
  },
  {
   "cell_type": "markdown",
   "id": "d1451a9d",
   "metadata": {},
   "source": [
    "## 5. Prepare Test and Train Data"
   ]
  },
  {
   "cell_type": "markdown",
   "id": "b14e5d27",
   "metadata": {},
   "source": [
    "**5.1. Randomly split the data into a training and test sets by holding 30% of the data for testing.**"
   ]
  },
  {
   "cell_type": "code",
   "execution_count": 12,
   "id": "27d62cdc",
   "metadata": {},
   "outputs": [
    {
     "name": "stdout",
     "output_type": "stream",
     "text": [
      "(721, 9)\n",
      "(309, 9)\n"
     ]
    }
   ],
   "source": [
    "from sklearn.model_selection import train_test_split # import sub-library model_selection and train_test_split module\n",
    "\n",
    "train_set, test_set = train_test_split(cd,test_size=0.30) # holding 30% of the data for testing\n",
    "print(train_set.shape) # output is rows & cols\n",
    "print(test_set.shape)"
   ]
  },
  {
   "cell_type": "markdown",
   "id": "0b713e33",
   "metadata": {},
   "source": [
    "**5.2. Evaluate the model on the test data (a), and compute the mean squared error between the predicted concrete strength and the actual concrete strength (b).**  \n",
    "In order to create the model we must set the predictor and target variables. In this case study, the variable of interest (target) is the *strength* of the cement, and all other variables are predictors."
   ]
  },
  {
   "cell_type": "code",
   "execution_count": 13,
   "id": "685b6176",
   "metadata": {},
   "outputs": [],
   "source": [
    "cd_cols = train_set.columns\n",
    "\n",
    "# Train set\n",
    "predictors_train = train_set[cd_cols[cd_cols != 'Strength']] # all columns except Strength\n",
    "target_train = train_set['Strength'] # only Strength column\n",
    "\n",
    "# Test set\n",
    "predictors_test = test_set[cd_cols[cd_cols != 'Strength']] # all columns except Strength\n",
    "target_test = test_set['Strength'] # Strength column"
   ]
  },
  {
   "cell_type": "code",
   "execution_count": 14,
   "id": "88f2a5ef",
   "metadata": {},
   "outputs": [
    {
     "name": "stdout",
     "output_type": "stream",
     "text": [
      "8\n"
     ]
    }
   ],
   "source": [
    "# Save number of predictors\n",
    "n_cols = predictors_train.shape[1] # shape[1] cols, shape[0] rows\n",
    "print(n_cols)"
   ]
  },
  {
   "cell_type": "markdown",
   "id": "fb8b4507",
   "metadata": {},
   "source": [
    "# 6. Training the model"
   ]
  },
  {
   "cell_type": "markdown",
   "id": "aec6f998",
   "metadata": {},
   "source": [
    "**6.1. Define the model and train it using the training data for 50 epochs.**"
   ]
  },
  {
   "cell_type": "code",
   "execution_count": 28,
   "id": "33e3cbc7",
   "metadata": {},
   "outputs": [
    {
     "name": "stdout",
     "output_type": "stream",
     "text": [
      "keras                        2.8.0\n",
      "Keras-Preprocessing          1.1.2\n",
      "Requirement already satisfied: keras in /Library/Frameworks/Python.framework/Versions/3.10/lib/python3.10/site-packages (2.8.0)\n"
     ]
    }
   ],
   "source": [
    "# Import keras\n",
    "!pip list | grep -i keras\n",
    "!pip install keras --upgrade --log ./pip-keras.log\n",
    "import keras"
   ]
  },
  {
   "cell_type": "code",
   "execution_count": 29,
   "id": "ca11395e",
   "metadata": {},
   "outputs": [],
   "source": [
    "from keras.models import Sequential\n",
    "from keras.layers import Dense\n",
    "\n",
    "# define regression model\n",
    "def regression_model():\n",
    "    # create model with one hidden layer using the add method\n",
    "    model = Sequential()# constructor function\n",
    "    model.add(Dense(10, activation='relu', input_shape=(n_cols,))) # 1 hidden layer + ReLU activation function\n",
    "    model.add(Dense(1))\n",
    "    \n",
    "    # compile model\n",
    "    model.compile(optimizer='adam', loss='mean_squared_error')\n",
    "    return model"
   ]
  },
  {
   "cell_type": "code",
   "execution_count": 30,
   "id": "d8f0c085",
   "metadata": {},
   "outputs": [],
   "source": [
    "# build the model\n",
    "model_1 = regression_model()"
   ]
  },
  {
   "cell_type": "code",
   "execution_count": 31,
   "id": "850016b3",
   "metadata": {},
   "outputs": [
    {
     "data": {
      "text/plain": [
       "<keras.callbacks.History at 0x1599dd330>"
      ]
     },
     "execution_count": 31,
     "metadata": {},
     "output_type": "execute_result"
    }
   ],
   "source": [
    "# train and test the model using the fit method by repeatedly iterating over the entire dataset for a 50 epochs.\n",
    "model_1.fit(predictors_train,\n",
    "          target_train,\n",
    "          epochs=50,\n",
    "          validation_split=0.3, # monitors validation loss and metrics at the end of each epoch\n",
    "          verbose=0)# output visualization"
   ]
  },
  {
   "cell_type": "markdown",
   "id": "69e3b0b1",
   "metadata": {},
   "source": [
    "**6.2. Evaluate the model on the test data.**"
   ]
  },
  {
   "cell_type": "code",
   "execution_count": 32,
   "id": "f9028989",
   "metadata": {},
   "outputs": [
    {
     "name": "stdout",
     "output_type": "stream",
     "text": [
      "3/3 [==============================] - 0s 2ms/step - loss: 408.9841\n",
      "408.984130859375\n"
     ]
    }
   ],
   "source": [
    "eval_results = model_1.evaluate(predictors_test, target_test, batch_size=128)\n",
    "print(eval_results)"
   ]
  },
  {
   "cell_type": "markdown",
   "id": "5ccf58a4",
   "metadata": {},
   "source": [
    "**6.3. Compute the mean squared error between the predicted concrete strength and the actual concrete strength. Use the mean_squared_error function from [Scikit-learn](https://scikit-learn.org/stable/modules/generated/sklearn.metrics.mean_squared_error.html?highlight=squared#sklearn.metrics.mean_squared_error)**"
   ]
  },
  {
   "cell_type": "code",
   "execution_count": 43,
   "id": "60cc3704",
   "metadata": {
    "collapsed": true
   },
   "outputs": [
    {
     "name": "stdout",
     "output_type": "stream",
     "text": [
      "[[ 1.55064726e+01]\n",
      " [ 1.26802530e+01]\n",
      " [ 1.87120380e+01]\n",
      " [ 5.49722137e+01]\n",
      " [ 1.86434536e+01]\n",
      " [ 2.31540508e+01]\n",
      " [ 3.98688011e+01]\n",
      " [ 1.85894947e+01]\n",
      " [ 6.80987320e+01]\n",
      " [ 1.24111118e+01]\n",
      " [ 1.00801802e+01]\n",
      " [ 6.55459290e+01]\n",
      " [ 1.26170969e+01]\n",
      " [ 9.16747131e+01]\n",
      " [ 8.23725033e+00]\n",
      " [ 3.29463043e+01]\n",
      " [ 7.22047348e+01]\n",
      " [ 9.88663769e+00]\n",
      " [ 2.65036983e+01]\n",
      " [ 2.13974438e+01]\n",
      " [ 1.66301823e+01]\n",
      " [ 6.80987320e+01]\n",
      " [ 3.19917660e+01]\n",
      " [ 2.19986515e+01]\n",
      " [ 1.71444988e+01]\n",
      " [ 3.77102242e+01]\n",
      " [ 8.58236542e+01]\n",
      " [ 8.00694942e+00]\n",
      " [ 3.37845535e+01]\n",
      " [ 1.12865171e+01]\n",
      " [ 1.65908756e+01]\n",
      " [ 3.75638733e+01]\n",
      " [ 2.51944637e+01]\n",
      " [ 3.51445808e+01]\n",
      " [ 3.76053391e+01]\n",
      " [ 9.61383533e+00]\n",
      " [ 1.11468115e+01]\n",
      " [ 6.66894770e+00]\n",
      " [ 5.28744354e+01]\n",
      " [ 6.39473963e+00]\n",
      " [ 1.80044003e+01]\n",
      " [ 8.96633148e+01]\n",
      " [ 5.52479630e+01]\n",
      " [ 6.09844055e+01]\n",
      " [ 1.02914438e+01]\n",
      " [ 3.94494438e+01]\n",
      " [ 1.00940619e+01]\n",
      " [ 8.32888336e+01]\n",
      " [ 2.26504002e+01]\n",
      " [ 6.18776941e+00]\n",
      " [ 1.37498312e+01]\n",
      " [ 3.35650940e+01]\n",
      " [ 4.22483788e+01]\n",
      " [ 4.84581757e+01]\n",
      " [ 8.04203415e+01]\n",
      " [ 8.04063721e+01]\n",
      " [ 2.13737545e+01]\n",
      " [ 3.28600502e+01]\n",
      " [ 2.42055759e+01]\n",
      " [ 7.48250504e+01]\n",
      " [ 1.30071707e+01]\n",
      " [ 3.70711365e+01]\n",
      " [ 3.35457916e+01]\n",
      " [ 1.53241892e+01]\n",
      " [ 2.06227684e+01]\n",
      " [ 6.50091553e+01]\n",
      " [ 5.38605356e+00]\n",
      " [ 1.58127222e+01]\n",
      " [ 5.29056091e+01]\n",
      " [ 6.97853928e+01]\n",
      " [ 4.95322418e+01]\n",
      " [ 4.96032763e+00]\n",
      " [ 3.31739578e+01]\n",
      " [ 4.38210535e+00]\n",
      " [ 6.97170563e+01]\n",
      " [ 8.42260437e+01]\n",
      " [ 6.61741714e+01]\n",
      " [ 9.81813526e+00]\n",
      " [ 4.96736374e+01]\n",
      " [ 1.96615124e+01]\n",
      " [ 4.23474388e+01]\n",
      " [ 2.08611560e+00]\n",
      " [ 1.59518309e+01]\n",
      " [ 1.87114658e+01]\n",
      " [ 2.41808414e+01]\n",
      " [ 6.40505600e+01]\n",
      " [ 2.14326687e+01]\n",
      " [ 4.28928413e+01]\n",
      " [ 2.33442783e+01]\n",
      " [ 5.57398272e+00]\n",
      " [ 1.45730696e+01]\n",
      " [ 3.29963493e+01]\n",
      " [ 3.30390053e+01]\n",
      " [ 4.86711578e+01]\n",
      " [ 6.63551760e+00]\n",
      " [ 5.56115189e+01]\n",
      " [ 1.49243345e+01]\n",
      " [ 3.82123184e+01]\n",
      " [ 2.63330135e+01]\n",
      " [ 3.33825226e+01]\n",
      " [ 3.02486095e+01]\n",
      " [ 2.52653332e+01]\n",
      " [ 9.22244167e+00]\n",
      " [-9.14658070e+00]\n",
      " [ 1.48713865e+01]\n",
      " [ 2.53086720e+01]\n",
      " [ 1.73442097e+01]\n",
      " [ 6.50013275e+01]\n",
      " [ 5.97277679e+01]\n",
      " [ 1.43653021e+01]\n",
      " [ 1.70908508e+01]\n",
      " [ 4.44479103e+01]\n",
      " [ 4.22188606e+01]\n",
      " [ 1.58262758e+01]\n",
      " [ 9.38806248e+00]\n",
      " [ 2.06813259e+01]\n",
      " [ 5.21240578e+01]\n",
      " [ 2.19213886e+01]\n",
      " [ 6.57919540e+01]\n",
      " [ 1.17083082e+01]\n",
      " [ 1.90444469e+01]\n",
      " [ 8.64092484e-02]\n",
      " [ 1.80878162e+01]\n",
      " [ 6.11401863e+01]\n",
      " [ 5.56195145e+01]\n",
      " [-1.95121515e+00]\n",
      " [ 7.92573853e+01]\n",
      " [ 1.44696798e+01]\n",
      " [ 5.38185959e+01]\n",
      " [ 6.82844818e-01]\n",
      " [ 6.89701309e+01]\n",
      " [ 1.26652822e+01]\n",
      " [ 2.22661533e+01]\n",
      " [-8.61480808e+00]\n",
      " [ 8.85155182e+01]\n",
      " [ 6.51917267e+01]\n",
      " [ 8.65307465e+01]\n",
      " [ 3.86802101e+01]\n",
      " [ 4.54616699e+01]\n",
      " [ 3.10814548e+00]\n",
      " [ 1.03175440e+01]\n",
      " [ 4.61755066e+01]\n",
      " [ 4.92052231e+01]\n",
      " [ 1.59823580e+01]\n",
      " [ 6.27724457e+01]\n",
      " [ 1.40667925e+01]\n",
      " [ 5.60320206e+01]\n",
      " [ 8.60744400e+01]\n",
      " [ 8.01655121e+01]\n",
      " [ 1.91456013e+01]\n",
      " [ 1.33697271e+01]\n",
      " [ 7.10340738e+00]\n",
      " [ 1.63996220e+01]\n",
      " [ 8.06284618e+00]\n",
      " [ 6.04007959e+00]\n",
      " [ 9.50685349e+01]\n",
      " [ 1.70930157e+01]\n",
      " [ 2.99406338e+01]\n",
      " [ 7.64803238e+01]\n",
      " [ 2.12258339e+01]\n",
      " [ 6.92399216e+01]\n",
      " [ 5.96243286e+01]\n",
      " [ 5.50883636e+01]\n",
      " [ 9.43862534e+01]\n",
      " [ 7.20221786e+01]\n",
      " [ 7.82630692e+01]\n",
      " [ 3.66487885e+01]\n",
      " [ 2.85081062e+01]\n",
      " [ 5.96222544e+00]\n",
      " [ 4.35264778e+01]\n",
      " [ 2.20128803e+01]\n",
      " [ 2.49593868e+01]\n",
      " [ 1.50043402e+01]\n",
      " [ 2.33183823e+01]\n",
      " [ 1.79957867e+01]\n",
      " [ 3.57930222e+01]\n",
      " [ 4.96169968e+01]\n",
      " [ 6.10767603e+00]\n",
      " [-1.32440317e+00]\n",
      " [ 3.50791512e+01]\n",
      " [ 3.96424408e+01]\n",
      " [ 3.71197510e+01]\n",
      " [ 6.41213379e+01]\n",
      " [ 4.16453705e+01]\n",
      " [ 1.62999821e+01]\n",
      " [-4.92649221e+00]\n",
      " [ 7.94582901e+01]\n",
      " [ 6.90573349e+01]\n",
      " [ 3.93782082e+01]\n",
      " [ 1.66765060e+01]\n",
      " [ 1.01466742e+01]\n",
      " [-7.25975943e+00]\n",
      " [ 9.96163464e+00]\n",
      " [ 1.54970160e+01]\n",
      " [ 1.21030226e+01]\n",
      " [ 6.42677383e+01]\n",
      " [-1.22152460e+00]\n",
      " [ 3.71357651e+01]\n",
      " [ 1.33729315e+01]\n",
      " [ 7.54673691e+01]\n",
      " [ 1.87842503e+01]\n",
      " [ 5.47499962e+01]\n",
      " [ 3.35657501e+01]\n",
      " [ 1.32739325e+01]\n",
      " [ 1.95961857e+01]\n",
      " [ 3.59050407e+01]\n",
      " [ 4.86836863e+00]\n",
      " [ 2.58830738e+01]\n",
      " [ 4.98920555e+01]\n",
      " [ 6.20436554e+01]\n",
      " [ 8.31062317e+01]\n",
      " [ 2.00605640e+01]\n",
      " [ 2.14482346e+01]\n",
      " [ 7.34610977e+01]\n",
      " [-7.65619421e+00]\n",
      " [ 5.31939659e+01]\n",
      " [ 7.94386826e+01]\n",
      " [ 2.26747608e+01]\n",
      " [ 3.20289993e+01]\n",
      " [ 1.66594868e+01]\n",
      " [ 4.81688843e+01]\n",
      " [ 8.07363815e+01]\n",
      " [ 1.07110319e+01]\n",
      " [ 1.65910854e+01]\n",
      " [ 8.94129333e+01]\n",
      " [ 4.29651566e+01]\n",
      " [ 8.41114197e+01]\n",
      " [ 5.18763008e+01]\n",
      " [ 2.18038807e+01]\n",
      " [ 6.63053970e+01]\n",
      " [ 3.99473834e+00]\n",
      " [ 8.54920483e+00]\n",
      " [ 1.57179403e+01]\n",
      " [ 1.94345837e+01]\n",
      " [ 8.13649292e+01]\n",
      " [ 1.42431364e+01]\n",
      " [ 1.62030544e+01]\n",
      " [ 3.19793682e+01]\n",
      " [ 6.71327896e+01]\n",
      " [ 1.56142912e+01]\n",
      " [ 1.20171988e+00]\n",
      " [ 1.75382214e+01]\n",
      " [ 4.98866501e+01]\n",
      " [ 1.84409428e+01]\n",
      " [ 8.83560848e+00]\n",
      " [ 2.07204800e+01]\n",
      " [ 2.52778759e+01]\n",
      " [ 6.50923204e+00]\n",
      " [ 3.56904678e+01]\n",
      " [ 2.99149876e+01]\n",
      " [ 6.81315994e+01]\n",
      " [ 1.87263012e+01]\n",
      " [ 1.48585997e+01]\n",
      " [ 9.31169033e+00]\n",
      " [ 3.81455193e+01]\n",
      " [ 3.13215137e+00]\n",
      " [ 4.97664948e+01]\n",
      " [ 2.80715199e+01]\n",
      " [ 1.10966806e+01]\n",
      " [ 3.17812991e+00]\n",
      " [ 8.88596439e+00]\n",
      " [ 8.11609936e+00]\n",
      " [ 5.66622543e+01]\n",
      " [ 8.11241455e+01]\n",
      " [ 5.19841309e+01]\n",
      " [ 8.80656738e+01]\n",
      " [ 2.23597832e+01]\n",
      " [ 6.35164642e+01]\n",
      " [ 6.48960800e+01]\n",
      " [ 8.53895340e+01]\n",
      " [ 8.50144348e+01]\n",
      " [ 5.24342270e+01]\n",
      " [ 3.40374374e+01]\n",
      " [ 2.45675526e+01]\n",
      " [ 3.06099567e+01]\n",
      " [ 4.02398643e+01]\n",
      " [ 1.15218413e+00]\n",
      " [ 6.19434977e+00]\n",
      " [ 3.45992928e+01]\n",
      " [ 6.92399216e+01]\n",
      " [ 1.42852812e+01]\n",
      " [ 3.66193352e+01]\n",
      " [ 2.16699352e+01]\n",
      " [ 7.13285904e+01]\n",
      " [ 1.69370556e+01]\n",
      " [ 6.68205795e+01]\n",
      " [ 4.83451920e+01]\n",
      " [ 1.35845594e+01]\n",
      " [ 1.22374468e+01]\n",
      " [ 2.50697002e+01]\n",
      " [ 1.17413778e+01]\n",
      " [ 1.61691303e+01]\n",
      " [ 2.33458195e+01]\n",
      " [ 3.43568497e+01]\n",
      " [ 5.42710266e+01]\n",
      " [ 5.70951157e+01]\n",
      " [ 6.96874857e+00]\n",
      " [ 2.52697315e+01]\n",
      " [ 1.82320194e+01]\n",
      " [ 1.85954533e+01]\n",
      " [-3.30022550e+00]\n",
      " [ 5.56239624e+01]\n",
      " [ 1.31835003e+01]\n",
      " [ 2.38506489e+01]\n",
      " [ 6.40145874e+01]\n",
      " [ 3.46014099e+01]\n",
      " [ 1.87979336e+01]\n",
      " [ 1.71862011e+01]\n",
      " [ 1.47178411e+01]]\n"
     ]
    }
   ],
   "source": [
    "# Calculate predicted concrete strength\n",
    "train_results_1 = model_1.predict(predictors_test)\n",
    "print(train_results_1)"
   ]
  },
  {
   "cell_type": "code",
   "execution_count": 44,
   "id": "a18080a3",
   "metadata": {},
   "outputs": [
    {
     "data": {
      "text/plain": [
       "408.9841551639459"
      ]
     },
     "execution_count": 44,
     "metadata": {},
     "output_type": "execute_result"
    }
   ],
   "source": [
    "# Compute the mean squared error \n",
    "from sklearn.metrics import mean_squared_error\n",
    "mean_squared_error(target_test, train_results_1)"
   ]
  },
  {
   "cell_type": "markdown",
   "id": "545d2860",
   "metadata": {},
   "source": [
    "## 7. Repeat steps 1 - 3, 50 times, i.e., create a list of 50 mean squared errors.\n",
    "\n"
   ]
  },
  {
   "cell_type": "code",
   "execution_count": 46,
   "id": "c494a865",
   "metadata": {
    "collapsed": true
   },
   "outputs": [
    {
     "name": "stdout",
     "output_type": "stream",
     "text": [
      "[160.76386886901307, 108.38954551641314, 79.39520210882435, 68.39246092882793, 67.57831608286483, 71.58965331977733, 78.07409942293408, 63.3765400196226, 63.41840904490186, 61.02146271880915, 64.95648293101362, 57.68202426079558, 59.84376514485404, 57.08872951591511, 52.19014389488179, 45.28447863811512, 41.513367177362575, 39.86965409598209, 41.61301344664871, 39.70288292151564, 42.777167302027266, 42.07680363862309, 46.174661321913966, 41.26423087978021, 42.5218043052612, 40.16569005626375, 46.13387703256152, 40.574155657503155, 42.69262430155855, 40.83342217550628, 41.87027012390321, 40.94976433889229, 42.94061089689753, 41.933083260697444, 47.089614540838, 44.48537430018752, 42.33422195507974, 46.98529703041056, 40.516416488720196, 40.77252813192613, 41.3740844433249, 44.52657110402142, 49.99804804802403, 40.50152874741349, 43.96724349856839, 41.393170460926775, 40.686666189431214, 40.684603242067176, 42.91974878256074, 51.50379871860091]\n"
     ]
    }
   ],
   "source": [
    "# build second model\n",
    "model_2 = regression_model()\n",
    "\n",
    "# create placeholder for model results\n",
    "model_res=[] \n",
    "\n",
    "# fit model with for loop for iteration\n",
    "for x in range(50):\n",
    "    model_2.fit(predictors_train, target_train, epochs=50, verbose=0)\n",
    "    train_results_2 = model_2.predict(predictors_test)\n",
    "    model_res.append(mean_squared_error(target_test,train_results_2))\n",
    "print(model_res)"
   ]
  },
  {
   "cell_type": "markdown",
   "id": "d2aeca56",
   "metadata": {},
   "source": [
    "## 8. Report the mean and the standard deviation of the mean squared errors."
   ]
  },
  {
   "cell_type": "code",
   "execution_count": 48,
   "id": "1d826cd6",
   "metadata": {
    "scrolled": true
   },
   "outputs": [
    {
     "name": "stdout",
     "output_type": "stream",
     "text": [
      "52.28782362065127\n",
      "20.773659609192705\n"
     ]
    }
   ],
   "source": [
    "import statistics as st\n",
    "\n",
    "mean = st.mean(model_res)\n",
    "print(mean)\n",
    "\n",
    "stdev = st.stdev(model_res)\n",
    "print(stdev)"
   ]
  },
  {
   "cell_type": "markdown",
   "id": "70854fdb",
   "metadata": {},
   "source": [
    "Mean of the list of mean square errors is 52.28782362065127  \n",
    "Standard deviation of the list of mean square errors is 20.773659609192705"
   ]
  }
 ],
 "metadata": {
  "kernelspec": {
   "display_name": "Python 3 (ipykernel)",
   "language": "python",
   "name": "python3"
  },
  "language_info": {
   "codemirror_mode": {
    "name": "ipython",
    "version": 3
   },
   "file_extension": ".py",
   "mimetype": "text/x-python",
   "name": "python",
   "nbconvert_exporter": "python",
   "pygments_lexer": "ipython3",
   "version": "3.10.2"
  }
 },
 "nbformat": 4,
 "nbformat_minor": 5
}
