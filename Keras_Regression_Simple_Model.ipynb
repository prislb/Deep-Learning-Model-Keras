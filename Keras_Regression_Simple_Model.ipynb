{
 "cells": [
  {
   "cell_type": "markdown",
   "id": "5e1471e4",
   "metadata": {},
   "source": [
    "<div align=\"center\"> <h1 align=\"center\"> REGRESSION USING KERAS </h1> </div>"
   ]
  },
  {
   "cell_type": "markdown",
   "id": "d99afe66",
   "metadata": {},
   "source": [
    "### This case study consists of building a regression model using the Keras library to model data about concrete's compressive strength. The goal is to experiment with building a neural network by increasing the number of training epochs and changing number of hidden layers and to observe how changing these parameters impacts the performance of the model.\n",
    "\n",
    "\n",
    "### The data we are using contains information on the compressive strength of different samples of concrete based on the volumes of the different ingredients that were used to make them."
   ]
  },
  {
   "cell_type": "markdown",
   "id": "422d63b9",
   "metadata": {},
   "source": [
    "## 1. Install necessary packages"
   ]
  },
  {
   "cell_type": "code",
   "execution_count": 18,
   "id": "a82878ec",
   "metadata": {
    "collapsed": true
   },
   "outputs": [
    {
     "name": "stdout",
     "output_type": "stream",
     "text": [
      "Requirement already satisfied: numpy==1.21.4 in /Library/Frameworks/Python.framework/Versions/3.10/lib/python3.10/site-packages (1.21.4)\n",
      "Requirement already satisfied: pandas==1.3.4 in /Library/Frameworks/Python.framework/Versions/3.10/lib/python3.10/site-packages (1.3.4)\n",
      "Requirement already satisfied: numpy>=1.21.0 in /Library/Frameworks/Python.framework/Versions/3.10/lib/python3.10/site-packages (from pandas==1.3.4) (1.21.4)\n",
      "Requirement already satisfied: python-dateutil>=2.7.3 in /Library/Frameworks/Python.framework/Versions/3.10/lib/python3.10/site-packages (from pandas==1.3.4) (2.8.2)\n",
      "Requirement already satisfied: pytz>=2017.3 in /Library/Frameworks/Python.framework/Versions/3.10/lib/python3.10/site-packages (from pandas==1.3.4) (2021.3)\n",
      "Requirement already satisfied: six>=1.5 in /Library/Frameworks/Python.framework/Versions/3.10/lib/python3.10/site-packages (from python-dateutil>=2.7.3->pandas==1.3.4) (1.16.0)\n",
      "Collecting keras==2.1.6\n",
      "  Using cached Keras-2.1.6-py2.py3-none-any.whl (339 kB)\n",
      "Requirement already satisfied: scipy>=0.14 in /Library/Frameworks/Python.framework/Versions/3.10/lib/python3.10/site-packages (from keras==2.1.6) (1.8.0)\n",
      "Requirement already satisfied: six>=1.9.0 in /Library/Frameworks/Python.framework/Versions/3.10/lib/python3.10/site-packages (from keras==2.1.6) (1.16.0)\n",
      "Requirement already satisfied: pyyaml in /Library/Frameworks/Python.framework/Versions/3.10/lib/python3.10/site-packages (from keras==2.1.6) (6.0)\n",
      "Requirement already satisfied: h5py in /Library/Frameworks/Python.framework/Versions/3.10/lib/python3.10/site-packages (from keras==2.1.6) (3.6.0)\n",
      "Requirement already satisfied: numpy>=1.9.1 in /Library/Frameworks/Python.framework/Versions/3.10/lib/python3.10/site-packages (from keras==2.1.6) (1.21.4)\n",
      "Installing collected packages: keras\n",
      "  Attempting uninstall: keras\n",
      "    Found existing installation: keras 2.8.0\n",
      "    Uninstalling keras-2.8.0:\n",
      "      Successfully uninstalled keras-2.8.0\n",
      "\u001b[31mERROR: pip's dependency resolver does not currently take into account all the packages that are installed. This behaviour is the source of the following dependency conflicts.\n",
      "tensorflow 2.8.0 requires keras<2.9,>=2.8.0rc0, but you have keras 2.1.6 which is incompatible.\u001b[0m\u001b[31m\n",
      "\u001b[0mSuccessfully installed keras-2.1.6\n",
      "Requirement already satisfied: sklearn in /Library/Frameworks/Python.framework/Versions/3.10/lib/python3.10/site-packages (0.0)\n",
      "Requirement already satisfied: scikit-learn in /Library/Frameworks/Python.framework/Versions/3.10/lib/python3.10/site-packages (from sklearn) (1.0.2)\n",
      "Requirement already satisfied: numpy>=1.14.6 in /Library/Frameworks/Python.framework/Versions/3.10/lib/python3.10/site-packages (from scikit-learn->sklearn) (1.21.4)\n",
      "Requirement already satisfied: threadpoolctl>=2.0.0 in /Library/Frameworks/Python.framework/Versions/3.10/lib/python3.10/site-packages (from scikit-learn->sklearn) (3.1.0)\n",
      "Requirement already satisfied: joblib>=0.11 in /Library/Frameworks/Python.framework/Versions/3.10/lib/python3.10/site-packages (from scikit-learn->sklearn) (1.1.0)\n",
      "Requirement already satisfied: scipy>=1.1.0 in /Library/Frameworks/Python.framework/Versions/3.10/lib/python3.10/site-packages (from scikit-learn->sklearn) (1.8.0)\n"
     ]
    }
   ],
   "source": [
    "!pip install numpy==1.21.4\n",
    "!pip install pandas==1.3.4\n",
    "!pip install keras==2.1.6\n",
    "!pip install sklearn"
   ]
  },
  {
   "cell_type": "markdown",
   "id": "f542ea56",
   "metadata": {},
   "source": [
    "## 2. Import necessary modules"
   ]
  },
  {
   "cell_type": "code",
   "execution_count": 2,
   "id": "0fd92d08",
   "metadata": {},
   "outputs": [],
   "source": [
    "import pandas as pd\n",
    "import numpy as np"
   ]
  },
  {
   "cell_type": "markdown",
   "id": "d4b1638d",
   "metadata": {},
   "source": [
    "## 3. Read in data and save dataframe"
   ]
  },
  {
   "cell_type": "code",
   "execution_count": 5,
   "id": "bc026ce7",
   "metadata": {
    "scrolled": true
   },
   "outputs": [
    {
     "data": {
      "text/html": [
       "<div>\n",
       "<style scoped>\n",
       "    .dataframe tbody tr th:only-of-type {\n",
       "        vertical-align: middle;\n",
       "    }\n",
       "\n",
       "    .dataframe tbody tr th {\n",
       "        vertical-align: top;\n",
       "    }\n",
       "\n",
       "    .dataframe thead th {\n",
       "        text-align: right;\n",
       "    }\n",
       "</style>\n",
       "<table border=\"1\" class=\"dataframe\">\n",
       "  <thead>\n",
       "    <tr style=\"text-align: right;\">\n",
       "      <th></th>\n",
       "      <th>Cement</th>\n",
       "      <th>Blast Furnace Slag</th>\n",
       "      <th>Fly Ash</th>\n",
       "      <th>Water</th>\n",
       "      <th>Superplasticizer</th>\n",
       "      <th>Coarse Aggregate</th>\n",
       "      <th>Fine Aggregate</th>\n",
       "      <th>Age</th>\n",
       "      <th>Strength</th>\n",
       "    </tr>\n",
       "  </thead>\n",
       "  <tbody>\n",
       "    <tr>\n",
       "      <th>0</th>\n",
       "      <td>540.0</td>\n",
       "      <td>0.0</td>\n",
       "      <td>0.0</td>\n",
       "      <td>162.0</td>\n",
       "      <td>2.5</td>\n",
       "      <td>1040.0</td>\n",
       "      <td>676.0</td>\n",
       "      <td>28</td>\n",
       "      <td>79.99</td>\n",
       "    </tr>\n",
       "    <tr>\n",
       "      <th>1</th>\n",
       "      <td>540.0</td>\n",
       "      <td>0.0</td>\n",
       "      <td>0.0</td>\n",
       "      <td>162.0</td>\n",
       "      <td>2.5</td>\n",
       "      <td>1055.0</td>\n",
       "      <td>676.0</td>\n",
       "      <td>28</td>\n",
       "      <td>61.89</td>\n",
       "    </tr>\n",
       "    <tr>\n",
       "      <th>2</th>\n",
       "      <td>332.5</td>\n",
       "      <td>142.5</td>\n",
       "      <td>0.0</td>\n",
       "      <td>228.0</td>\n",
       "      <td>0.0</td>\n",
       "      <td>932.0</td>\n",
       "      <td>594.0</td>\n",
       "      <td>270</td>\n",
       "      <td>40.27</td>\n",
       "    </tr>\n",
       "    <tr>\n",
       "      <th>3</th>\n",
       "      <td>332.5</td>\n",
       "      <td>142.5</td>\n",
       "      <td>0.0</td>\n",
       "      <td>228.0</td>\n",
       "      <td>0.0</td>\n",
       "      <td>932.0</td>\n",
       "      <td>594.0</td>\n",
       "      <td>365</td>\n",
       "      <td>41.05</td>\n",
       "    </tr>\n",
       "    <tr>\n",
       "      <th>4</th>\n",
       "      <td>198.6</td>\n",
       "      <td>132.4</td>\n",
       "      <td>0.0</td>\n",
       "      <td>192.0</td>\n",
       "      <td>0.0</td>\n",
       "      <td>978.4</td>\n",
       "      <td>825.5</td>\n",
       "      <td>360</td>\n",
       "      <td>44.30</td>\n",
       "    </tr>\n",
       "  </tbody>\n",
       "</table>\n",
       "</div>"
      ],
      "text/plain": [
       "   Cement  Blast Furnace Slag  Fly Ash  Water  Superplasticizer  \\\n",
       "0   540.0                 0.0      0.0  162.0               2.5   \n",
       "1   540.0                 0.0      0.0  162.0               2.5   \n",
       "2   332.5               142.5      0.0  228.0               0.0   \n",
       "3   332.5               142.5      0.0  228.0               0.0   \n",
       "4   198.6               132.4      0.0  192.0               0.0   \n",
       "\n",
       "   Coarse Aggregate  Fine Aggregate  Age  Strength  \n",
       "0            1040.0           676.0   28     79.99  \n",
       "1            1055.0           676.0   28     61.89  \n",
       "2             932.0           594.0  270     40.27  \n",
       "3             932.0           594.0  365     41.05  \n",
       "4             978.4           825.5  360     44.30  "
      ]
     },
     "execution_count": 5,
     "metadata": {},
     "output_type": "execute_result"
    }
   ],
   "source": [
    "cd = pd.read_csv (r'/Users/priscilalopez-beltran/Desktop/PY4E/Keras DL model capstone/concrete_data.csv')\n",
    "cd.head() # concrete data -> cd"
   ]
  },
  {
   "cell_type": "markdown",
   "id": "0f04f5c7",
   "metadata": {},
   "source": [
    "## 4. Check integrity of data\n",
    "\n",
    "**4.1. Number of data points**  \n",
    "   Not a big data set (n= 1030.00), therefore we must be careful not to overfit the training data. "
   ]
  },
  {
   "cell_type": "code",
   "execution_count": 6,
   "id": "2020d416",
   "metadata": {
    "scrolled": true
   },
   "outputs": [
    {
     "data": {
      "text/html": [
       "<div>\n",
       "<style scoped>\n",
       "    .dataframe tbody tr th:only-of-type {\n",
       "        vertical-align: middle;\n",
       "    }\n",
       "\n",
       "    .dataframe tbody tr th {\n",
       "        vertical-align: top;\n",
       "    }\n",
       "\n",
       "    .dataframe thead th {\n",
       "        text-align: right;\n",
       "    }\n",
       "</style>\n",
       "<table border=\"1\" class=\"dataframe\">\n",
       "  <thead>\n",
       "    <tr style=\"text-align: right;\">\n",
       "      <th></th>\n",
       "      <th>Cement</th>\n",
       "      <th>Blast Furnace Slag</th>\n",
       "      <th>Fly Ash</th>\n",
       "      <th>Water</th>\n",
       "      <th>Superplasticizer</th>\n",
       "      <th>Coarse Aggregate</th>\n",
       "      <th>Fine Aggregate</th>\n",
       "      <th>Age</th>\n",
       "      <th>Strength</th>\n",
       "    </tr>\n",
       "  </thead>\n",
       "  <tbody>\n",
       "    <tr>\n",
       "      <th>count</th>\n",
       "      <td>1030.000000</td>\n",
       "      <td>1030.000000</td>\n",
       "      <td>1030.000000</td>\n",
       "      <td>1030.000000</td>\n",
       "      <td>1030.000000</td>\n",
       "      <td>1030.000000</td>\n",
       "      <td>1030.000000</td>\n",
       "      <td>1030.000000</td>\n",
       "      <td>1030.000000</td>\n",
       "    </tr>\n",
       "    <tr>\n",
       "      <th>mean</th>\n",
       "      <td>281.167864</td>\n",
       "      <td>73.895825</td>\n",
       "      <td>54.188350</td>\n",
       "      <td>181.567282</td>\n",
       "      <td>6.204660</td>\n",
       "      <td>972.918932</td>\n",
       "      <td>773.580485</td>\n",
       "      <td>45.662136</td>\n",
       "      <td>35.817961</td>\n",
       "    </tr>\n",
       "    <tr>\n",
       "      <th>std</th>\n",
       "      <td>104.506364</td>\n",
       "      <td>86.279342</td>\n",
       "      <td>63.997004</td>\n",
       "      <td>21.354219</td>\n",
       "      <td>5.973841</td>\n",
       "      <td>77.753954</td>\n",
       "      <td>80.175980</td>\n",
       "      <td>63.169912</td>\n",
       "      <td>16.705742</td>\n",
       "    </tr>\n",
       "    <tr>\n",
       "      <th>min</th>\n",
       "      <td>102.000000</td>\n",
       "      <td>0.000000</td>\n",
       "      <td>0.000000</td>\n",
       "      <td>121.800000</td>\n",
       "      <td>0.000000</td>\n",
       "      <td>801.000000</td>\n",
       "      <td>594.000000</td>\n",
       "      <td>1.000000</td>\n",
       "      <td>2.330000</td>\n",
       "    </tr>\n",
       "    <tr>\n",
       "      <th>25%</th>\n",
       "      <td>192.375000</td>\n",
       "      <td>0.000000</td>\n",
       "      <td>0.000000</td>\n",
       "      <td>164.900000</td>\n",
       "      <td>0.000000</td>\n",
       "      <td>932.000000</td>\n",
       "      <td>730.950000</td>\n",
       "      <td>7.000000</td>\n",
       "      <td>23.710000</td>\n",
       "    </tr>\n",
       "    <tr>\n",
       "      <th>50%</th>\n",
       "      <td>272.900000</td>\n",
       "      <td>22.000000</td>\n",
       "      <td>0.000000</td>\n",
       "      <td>185.000000</td>\n",
       "      <td>6.400000</td>\n",
       "      <td>968.000000</td>\n",
       "      <td>779.500000</td>\n",
       "      <td>28.000000</td>\n",
       "      <td>34.445000</td>\n",
       "    </tr>\n",
       "    <tr>\n",
       "      <th>75%</th>\n",
       "      <td>350.000000</td>\n",
       "      <td>142.950000</td>\n",
       "      <td>118.300000</td>\n",
       "      <td>192.000000</td>\n",
       "      <td>10.200000</td>\n",
       "      <td>1029.400000</td>\n",
       "      <td>824.000000</td>\n",
       "      <td>56.000000</td>\n",
       "      <td>46.135000</td>\n",
       "    </tr>\n",
       "    <tr>\n",
       "      <th>max</th>\n",
       "      <td>540.000000</td>\n",
       "      <td>359.400000</td>\n",
       "      <td>200.100000</td>\n",
       "      <td>247.000000</td>\n",
       "      <td>32.200000</td>\n",
       "      <td>1145.000000</td>\n",
       "      <td>992.600000</td>\n",
       "      <td>365.000000</td>\n",
       "      <td>82.600000</td>\n",
       "    </tr>\n",
       "  </tbody>\n",
       "</table>\n",
       "</div>"
      ],
      "text/plain": [
       "            Cement  Blast Furnace Slag      Fly Ash        Water  \\\n",
       "count  1030.000000         1030.000000  1030.000000  1030.000000   \n",
       "mean    281.167864           73.895825    54.188350   181.567282   \n",
       "std     104.506364           86.279342    63.997004    21.354219   \n",
       "min     102.000000            0.000000     0.000000   121.800000   \n",
       "25%     192.375000            0.000000     0.000000   164.900000   \n",
       "50%     272.900000           22.000000     0.000000   185.000000   \n",
       "75%     350.000000          142.950000   118.300000   192.000000   \n",
       "max     540.000000          359.400000   200.100000   247.000000   \n",
       "\n",
       "       Superplasticizer  Coarse Aggregate  Fine Aggregate          Age  \\\n",
       "count       1030.000000       1030.000000     1030.000000  1030.000000   \n",
       "mean           6.204660        972.918932      773.580485    45.662136   \n",
       "std            5.973841         77.753954       80.175980    63.169912   \n",
       "min            0.000000        801.000000      594.000000     1.000000   \n",
       "25%            0.000000        932.000000      730.950000     7.000000   \n",
       "50%            6.400000        968.000000      779.500000    28.000000   \n",
       "75%           10.200000       1029.400000      824.000000    56.000000   \n",
       "max           32.200000       1145.000000      992.600000   365.000000   \n",
       "\n",
       "          Strength  \n",
       "count  1030.000000  \n",
       "mean     35.817961  \n",
       "std      16.705742  \n",
       "min       2.330000  \n",
       "25%      23.710000  \n",
       "50%      34.445000  \n",
       "75%      46.135000  \n",
       "max      82.600000  "
      ]
     },
     "execution_count": 6,
     "metadata": {},
     "output_type": "execute_result"
    }
   ],
   "source": [
    "cd.describe()"
   ]
  },
  {
   "cell_type": "markdown",
   "id": "62cf4113",
   "metadata": {},
   "source": [
    "**4.2. Check for missing values**  \n",
    "No missing values in the data"
   ]
  },
  {
   "cell_type": "code",
   "execution_count": 7,
   "id": "0da14632",
   "metadata": {},
   "outputs": [
    {
     "data": {
      "text/plain": [
       "Cement                0\n",
       "Blast Furnace Slag    0\n",
       "Fly Ash               0\n",
       "Water                 0\n",
       "Superplasticizer      0\n",
       "Coarse Aggregate      0\n",
       "Fine Aggregate        0\n",
       "Age                   0\n",
       "Strength              0\n",
       "dtype: int64"
      ]
     },
     "execution_count": 7,
     "metadata": {},
     "output_type": "execute_result"
    }
   ],
   "source": [
    "cd.isnull().sum()"
   ]
  },
  {
   "cell_type": "markdown",
   "id": "d1451a9d",
   "metadata": {},
   "source": [
    "## 5. Prepare Test and Train Data"
   ]
  },
  {
   "cell_type": "markdown",
   "id": "b14e5d27",
   "metadata": {},
   "source": [
    "**5.1. Randomly split the data into a training and test sets holding 30% of the data for testing.**"
   ]
  },
  {
   "cell_type": "code",
   "execution_count": 8,
   "id": "27d62cdc",
   "metadata": {},
   "outputs": [
    {
     "name": "stdout",
     "output_type": "stream",
     "text": [
      "(721, 9)\n",
      "(309, 9)\n"
     ]
    }
   ],
   "source": [
    "from sklearn.model_selection import train_test_split # import sub-library model_selection and train_test_split module\n",
    "\n",
    "train_set, test_set = train_test_split(cd,test_size=0.30) # holding 30% of the data for testing\n",
    "print(train_set.shape) # output is rows & cols\n",
    "print(test_set.shape)"
   ]
  },
  {
   "cell_type": "markdown",
   "id": "ebf755da",
   "metadata": {},
   "source": [
    "**5.2. Split data into target and predictors.**  \n",
    "In order to create the model we must set the predictor and target variables. In this case study, the variable of interest (target) is the *strength* of the cement, and all other variables are predictors."
   ]
  },
  {
   "cell_type": "code",
   "execution_count": 9,
   "id": "685b6176",
   "metadata": {},
   "outputs": [],
   "source": [
    "cd_cols = train_set.columns\n",
    "\n",
    "# Train set\n",
    "predictors_train = train_set[cd_cols[cd_cols != 'Strength']] # all columns except Strength\n",
    "target_train = train_set['Strength'] # only Strength column\n",
    "\n",
    "# Test set\n",
    "predictors_test = test_set[cd_cols[cd_cols != 'Strength']] # all columns except Strength\n",
    "target_test = test_set['Strength'] # Strength column"
   ]
  },
  {
   "cell_type": "markdown",
   "id": "f83cf7a0",
   "metadata": {},
   "source": [
    "**5.3. Normalize data using z-scores: z = (x-μ)/σ**"
   ]
  },
  {
   "cell_type": "code",
   "execution_count": 26,
   "id": "ec2a5250",
   "metadata": {},
   "outputs": [],
   "source": [
    "predictors_norm_train = (predictors_train - predictors_train.mean()) / predictors_train.std()\n",
    "predictors_norm_test = (predictors_test - predictors_test.mean()) / predictors_test.std()\n",
    "\n",
    "target_norm_train = (target_train - target_train.mean()) / target_train.std()\n",
    "target_norm_test = (target_test - target_test.mean()) / target_test.std()"
   ]
  },
  {
   "cell_type": "code",
   "execution_count": 27,
   "id": "88f2a5ef",
   "metadata": {},
   "outputs": [
    {
     "name": "stdout",
     "output_type": "stream",
     "text": [
      "8\n"
     ]
    }
   ],
   "source": [
    "# Save number of predictors\n",
    "n_cols = predictors_norm_train.shape[1] # shape[1] cols, shape[0] rows\n",
    "print(n_cols)"
   ]
  },
  {
   "cell_type": "markdown",
   "id": "fb8b4507",
   "metadata": {},
   "source": [
    "# 6. Training the model with Keras"
   ]
  },
  {
   "cell_type": "markdown",
   "id": "aec6f998",
   "metadata": {},
   "source": [
    "**6.1. Define a model with one hidden layer, use the adam optimizer and the mean squared error loss function. Then, train the model using the training data for 50 epochs.**"
   ]
  },
  {
   "cell_type": "code",
   "execution_count": 21,
   "id": "33e3cbc7",
   "metadata": {
    "collapsed": true
   },
   "outputs": [
    {
     "name": "stdout",
     "output_type": "stream",
     "text": [
      "Keras                        2.1.6\n",
      "Keras-Preprocessing          1.1.2\n",
      "Requirement already satisfied: keras in /Library/Frameworks/Python.framework/Versions/3.10/lib/python3.10/site-packages (2.1.6)\n",
      "Collecting keras\n",
      "  Using cached keras-2.8.0-py2.py3-none-any.whl (1.4 MB)\n",
      "Installing collected packages: keras\n",
      "  Attempting uninstall: keras\n",
      "    Found existing installation: Keras 2.1.6\n",
      "    Uninstalling Keras-2.1.6:\n",
      "      Successfully uninstalled Keras-2.1.6\n",
      "Successfully installed keras-2.8.0\n"
     ]
    }
   ],
   "source": [
    "# Import keras package (had to do some work-around)\n",
    "!pip list | grep -i keras\n",
    "!pip install keras --upgrade --log ./pip-keras.log\n",
    "import keras"
   ]
  },
  {
   "cell_type": "code",
   "execution_count": 28,
   "id": "ca11395e",
   "metadata": {},
   "outputs": [],
   "source": [
    "# import necessary keras modules\n",
    "from keras.models import Sequential\n",
    "from keras.layers import Dense\n",
    "\n",
    "# define regression model\n",
    "def regression_model():\n",
    "    # create model with one hidden layer using the add method\n",
    "    model = Sequential()# constructor function\n",
    "    model.add(Dense(10, activation='relu', input_shape=(n_cols,))) # 1 hidden layer + ReLU activation function\n",
    "\n",
    "    model.add(Dense(1))\n",
    "    \n",
    "    # compile model\n",
    "    model.compile(optimizer='adam', loss='mean_squared_error') \n",
    "    return model"
   ]
  },
  {
   "cell_type": "code",
   "execution_count": 23,
   "id": "2d567ad2",
   "metadata": {},
   "outputs": [],
   "source": [
    "# build the model\n",
    "model_1 = regression_model()"
   ]
  },
  {
   "cell_type": "code",
   "execution_count": 24,
   "id": "24c49a4c",
   "metadata": {},
   "outputs": [
    {
     "data": {
      "text/plain": [
       "<keras.callbacks.History at 0x135b2c220>"
      ]
     },
     "execution_count": 24,
     "metadata": {},
     "output_type": "execute_result"
    }
   ],
   "source": [
    "# train and test the model using the fit method by repeatedly iterating over the entire dataset for a 50 epochs.\n",
    "model_1.fit(predictors_train,\n",
    "          target_train,\n",
    "          epochs=50,\n",
    "          validation_split=0.3, # monitors validation loss and metrics at the end of each epoch\n",
    "          verbose=0)# output visualization"
   ]
  },
  {
   "cell_type": "markdown",
   "id": "0b713e33",
   "metadata": {},
   "source": [
    "**6.2. Evaluate the model on the test data, and compute the mean squared error between the predicted concrete strength and the actual concrete strength.**  "
   ]
  },
  {
   "cell_type": "code",
   "execution_count": 29,
   "id": "face9dd8",
   "metadata": {},
   "outputs": [
    {
     "name": "stdout",
     "output_type": "stream",
     "text": [
      "3/3 [==============================] - 0s 1ms/step - loss: 0.8982\n",
      "0.8982067704200745\n"
     ]
    }
   ],
   "source": [
    "eval_results = model_1.evaluate(predictors_norm_test, target_norm_test, batch_size=128)\n",
    "print(eval_results)"
   ]
  },
  {
   "cell_type": "markdown",
   "id": "60346af1",
   "metadata": {},
   "source": [
    "**6.3. Compute the mean squared error between the predicted concrete strength and the actual concrete strength. Use the mean_squared_error function from [Scikit-learn](https://scikit-learn.org/stable/modules/generated/sklearn.metrics.mean_squared_error.html?highlight=squared#sklearn.metrics.mean_squared_error)**"
   ]
  },
  {
   "cell_type": "code",
   "execution_count": 30,
   "id": "29d654bb",
   "metadata": {
    "collapsed": true
   },
   "outputs": [
    {
     "name": "stdout",
     "output_type": "stream",
     "text": [
      "[[22.145866]\n",
      " [23.772072]\n",
      " [71.65961 ]\n",
      " [19.898537]\n",
      " [43.344032]\n",
      " [63.191597]\n",
      " [24.271797]\n",
      " [38.40439 ]\n",
      " [40.072   ]\n",
      " [46.003777]\n",
      " [27.911995]\n",
      " [36.702324]\n",
      " [17.16912 ]\n",
      " [31.925156]\n",
      " [26.601173]\n",
      " [23.315208]\n",
      " [49.858894]\n",
      " [35.798347]\n",
      " [22.828041]\n",
      " [32.54103 ]\n",
      " [23.29451 ]\n",
      " [26.753242]\n",
      " [64.09351 ]\n",
      " [54.214928]\n",
      " [35.143837]\n",
      " [42.874443]\n",
      " [28.60868 ]\n",
      " [48.568123]\n",
      " [49.97991 ]\n",
      " [24.101295]\n",
      " [43.330406]\n",
      " [52.136505]\n",
      " [41.109077]\n",
      " [41.797005]\n",
      " [31.886604]\n",
      " [46.237404]\n",
      " [40.777252]\n",
      " [56.95909 ]\n",
      " [49.36022 ]\n",
      " [61.2967  ]\n",
      " [28.519936]\n",
      " [40.02732 ]\n",
      " [32.512566]\n",
      " [30.486748]\n",
      " [41.014397]\n",
      " [37.67067 ]\n",
      " [27.39347 ]\n",
      " [40.21878 ]\n",
      " [27.848717]\n",
      " [15.294745]\n",
      " [21.42244 ]\n",
      " [32.400932]\n",
      " [38.976967]\n",
      " [23.568977]\n",
      " [54.303375]\n",
      " [28.189156]\n",
      " [28.48211 ]\n",
      " [22.736076]\n",
      " [37.7322  ]\n",
      " [27.802559]\n",
      " [37.41253 ]\n",
      " [30.860863]\n",
      " [44.026848]\n",
      " [40.218803]\n",
      " [52.501244]\n",
      " [31.077126]\n",
      " [38.99331 ]\n",
      " [18.812202]\n",
      " [13.223601]\n",
      " [44.899864]\n",
      " [26.942223]\n",
      " [33.909935]\n",
      " [25.894188]\n",
      " [26.526497]\n",
      " [36.262016]\n",
      " [35.85517 ]\n",
      " [12.362998]\n",
      " [31.68142 ]\n",
      " [43.97413 ]\n",
      " [37.311943]\n",
      " [31.204208]\n",
      " [24.10038 ]\n",
      " [36.27005 ]\n",
      " [18.29409 ]\n",
      " [56.31254 ]\n",
      " [30.71453 ]\n",
      " [22.844414]\n",
      " [45.521362]\n",
      " [24.282097]\n",
      " [27.535858]\n",
      " [25.215065]\n",
      " [32.866554]\n",
      " [22.322914]\n",
      " [33.32386 ]\n",
      " [23.854836]\n",
      " [43.508507]\n",
      " [26.124054]\n",
      " [56.31254 ]\n",
      " [24.793533]\n",
      " [29.584251]\n",
      " [19.67134 ]\n",
      " [45.769463]\n",
      " [56.31254 ]\n",
      " [35.907448]\n",
      " [33.92222 ]\n",
      " [34.013115]\n",
      " [49.146515]\n",
      " [34.649788]\n",
      " [41.566338]\n",
      " [47.797165]\n",
      " [31.976845]\n",
      " [33.421173]\n",
      " [31.026093]\n",
      " [44.026863]\n",
      " [42.22782 ]\n",
      " [23.8312  ]\n",
      " [28.091423]\n",
      " [44.88166 ]\n",
      " [56.95909 ]\n",
      " [34.262245]\n",
      " [37.90061 ]\n",
      " [26.421295]\n",
      " [32.73661 ]\n",
      " [28.185432]\n",
      " [45.94982 ]\n",
      " [30.071663]\n",
      " [53.2826  ]\n",
      " [27.1045  ]\n",
      " [37.364174]\n",
      " [38.767097]\n",
      " [47.116905]\n",
      " [25.608223]\n",
      " [29.004631]\n",
      " [45.678307]\n",
      " [22.260399]\n",
      " [28.540077]\n",
      " [30.346466]\n",
      " [45.117393]\n",
      " [27.91256 ]\n",
      " [41.96689 ]\n",
      " [24.236061]\n",
      " [54.83925 ]\n",
      " [47.381073]\n",
      " [47.343452]\n",
      " [55.11664 ]\n",
      " [31.75962 ]\n",
      " [24.413315]\n",
      " [55.792282]\n",
      " [43.786247]\n",
      " [39.519882]\n",
      " [35.53695 ]\n",
      " [14.043067]\n",
      " [24.679863]\n",
      " [39.841072]\n",
      " [21.243248]\n",
      " [31.361588]\n",
      " [54.862793]\n",
      " [58.177902]\n",
      " [39.22384 ]\n",
      " [29.790237]\n",
      " [43.45965 ]\n",
      " [66.93312 ]\n",
      " [48.29447 ]\n",
      " [24.358467]\n",
      " [35.932007]\n",
      " [22.322594]\n",
      " [23.154991]\n",
      " [29.603493]\n",
      " [41.712402]\n",
      " [45.419548]\n",
      " [35.89785 ]\n",
      " [40.19564 ]\n",
      " [32.63813 ]\n",
      " [39.67073 ]\n",
      " [41.448906]\n",
      " [32.14344 ]\n",
      " [24.699593]\n",
      " [44.43519 ]\n",
      " [41.74398 ]\n",
      " [55.298088]\n",
      " [21.038643]\n",
      " [24.280205]\n",
      " [39.842125]\n",
      " [47.618095]\n",
      " [32.60679 ]\n",
      " [31.743958]\n",
      " [62.770203]\n",
      " [38.52987 ]\n",
      " [17.981789]\n",
      " [21.823883]\n",
      " [39.800232]\n",
      " [41.153915]\n",
      " [39.361794]\n",
      " [44.654823]\n",
      " [27.04963 ]\n",
      " [51.140923]\n",
      " [48.009933]\n",
      " [25.532066]\n",
      " [48.800514]\n",
      " [35.072716]\n",
      " [31.607323]\n",
      " [25.558022]\n",
      " [27.212059]\n",
      " [41.16838 ]\n",
      " [42.076668]\n",
      " [26.737679]\n",
      " [48.767807]\n",
      " [29.849983]\n",
      " [27.182198]\n",
      " [36.425514]\n",
      " [45.91642 ]\n",
      " [15.319648]\n",
      " [23.72181 ]\n",
      " [31.836235]\n",
      " [26.072807]\n",
      " [44.925896]\n",
      " [32.228455]\n",
      " [51.426186]\n",
      " [43.180984]\n",
      " [40.744255]\n",
      " [37.365517]\n",
      " [40.91822 ]\n",
      " [49.328606]\n",
      " [24.422302]\n",
      " [47.91208 ]\n",
      " [26.901176]\n",
      " [28.48101 ]\n",
      " [41.81404 ]\n",
      " [46.44169 ]\n",
      " [17.504242]\n",
      " [40.01271 ]\n",
      " [44.585304]\n",
      " [11.124297]\n",
      " [31.039436]\n",
      " [23.155869]\n",
      " [39.78485 ]\n",
      " [56.15238 ]\n",
      " [22.14785 ]\n",
      " [10.291747]\n",
      " [29.580788]\n",
      " [44.48767 ]\n",
      " [51.426186]\n",
      " [47.618095]\n",
      " [29.71936 ]\n",
      " [48.72793 ]\n",
      " [17.967537]\n",
      " [25.262123]\n",
      " [46.214767]\n",
      " [48.337303]\n",
      " [33.936623]\n",
      " [27.33477 ]\n",
      " [32.358498]\n",
      " [51.426186]\n",
      " [47.517113]\n",
      " [35.32528 ]\n",
      " [44.58529 ]\n",
      " [48.193947]\n",
      " [37.21984 ]\n",
      " [40.977867]\n",
      " [25.165863]\n",
      " [57.70668 ]\n",
      " [37.478447]\n",
      " [52.91664 ]\n",
      " [36.48957 ]\n",
      " [39.940178]\n",
      " [35.93107 ]\n",
      " [26.359734]\n",
      " [29.31543 ]\n",
      " [29.04055 ]\n",
      " [32.957924]\n",
      " [17.446861]\n",
      " [22.554863]\n",
      " [38.51194 ]\n",
      " [30.292694]\n",
      " [42.07435 ]\n",
      " [19.450218]\n",
      " [37.195885]\n",
      " [38.093727]\n",
      " [12.440642]\n",
      " [28.347298]\n",
      " [37.548195]\n",
      " [16.431847]\n",
      " [15.294745]\n",
      " [46.526634]\n",
      " [36.06559 ]\n",
      " [42.520782]\n",
      " [39.99064 ]\n",
      " [33.41855 ]\n",
      " [38.62552 ]\n",
      " [36.007233]\n",
      " [39.195686]\n",
      " [42.77993 ]\n",
      " [21.242119]\n",
      " [28.104652]\n",
      " [36.03338 ]\n",
      " [24.40892 ]\n",
      " [47.517113]\n",
      " [31.675682]\n",
      " [23.484383]\n",
      " [30.143715]\n",
      " [17.083977]\n",
      " [43.156044]\n",
      " [26.485832]\n",
      " [35.161934]\n",
      " [39.474228]\n",
      " [25.814445]\n",
      " [33.364967]\n",
      " [43.361305]\n",
      " [19.88845 ]]\n"
     ]
    }
   ],
   "source": [
    "# Calculate predicted concrete strength\n",
    "train_results_1 = model_1.predict(predictors_test)\n",
    "print(train_results_1)"
   ]
  },
  {
   "cell_type": "code",
   "execution_count": 31,
   "id": "b346ccce",
   "metadata": {},
   "outputs": [
    {
     "data": {
      "text/plain": [
       "167.40155173360313"
      ]
     },
     "execution_count": 31,
     "metadata": {},
     "output_type": "execute_result"
    }
   ],
   "source": [
    "# Compute the mean squared error \n",
    "from sklearn.metrics import mean_squared_error\n",
    "mean_squared_error(target_test, train_results_1)"
   ]
  },
  {
   "cell_type": "markdown",
   "id": "e6891789",
   "metadata": {},
   "source": [
    "## 7. Train a second model with Keras  \n",
    "The second model will have 3 hidden layers (same optimizer and loss function) it will be trained over 50 epochs 59 times."
   ]
  },
  {
   "cell_type": "code",
   "execution_count": 33,
   "id": "c494a865",
   "metadata": {
    "collapsed": true
   },
   "outputs": [
    {
     "name": "stdout",
     "output_type": "stream",
     "text": [
      "[0.27680722326357426, 0.1686243155050289, 0.1520690654233241, 0.14313035606517321, 0.14044050303940783, 0.1411089508719913, 0.14130670040020646, 0.14361622876015456, 0.14150887343744392, 0.14559335641497312, 0.14292664505623662, 0.14294222842481538, 0.1411382772290765, 0.14234924560616882, 0.14251159507466438, 0.1423863994117397, 0.1409058527507011, 0.14060769116285082, 0.14254173206959184, 0.14239355253840968, 0.14142524809195517, 0.13997269956894348, 0.14011428674852866, 0.14103364470931462, 0.14153388714817824, 0.14558457753403023, 0.14007451351589625, 0.140504467372334, 0.14055956029402125, 0.14295386152210016, 0.14026165741761096, 0.14207785552190988, 0.14129773239018212, 0.1396071983942241, 0.14099585845727766, 0.14202967149122075, 0.13965151723134026, 0.13983290112666863, 0.14253556088019928, 0.14220244249862854, 0.14266246370670516, 0.1393527943329976, 0.1410337363883798, 0.14069183396752913, 0.14181299324362728, 0.1414093240060093, 0.141238583711456, 0.14542293649454766, 0.14037251175296656, 0.14302370896698344]\n"
     ]
    }
   ],
   "source": [
    "# build second model\n",
    "model_2 = regression_model()\n",
    "\n",
    "# create placeholder for model results\n",
    "model_res=[] \n",
    "\n",
    "# fit model with for loop for iteration\n",
    "for x in range(50):\n",
    "    model_2.fit(predictors_norm_train, target_norm_train, epochs=100, verbose=0)\n",
    "    train_results_2 = model_2.predict(predictors_norm_test)\n",
    "    model_res.append(mean_squared_error(target_norm_test,train_results_2))\n",
    "print(model_res) #sanity check"
   ]
  },
  {
   "cell_type": "markdown",
   "id": "d2aeca56",
   "metadata": {},
   "source": [
    "## 8. Report the mean and the standard deviation of the mean squared errors."
   ]
  },
  {
   "cell_type": "code",
   "execution_count": 34,
   "id": "1d826cd6",
   "metadata": {
    "scrolled": true
   },
   "outputs": [
    {
     "name": "stdout",
     "output_type": "stream",
     "text": [
      "0.14512357641982598\n",
      "0.01948360702821636\n"
     ]
    }
   ],
   "source": [
    "import statistics as st\n",
    "\n",
    "mean = st.mean(model_res)\n",
    "print(mean)\n",
    "\n",
    "stdev = st.stdev(model_res)\n",
    "print(stdev)"
   ]
  },
  {
   "cell_type": "markdown",
   "id": "1d3f93b4",
   "metadata": {},
   "source": [
    "# Resources"
   ]
  },
  {
   "cell_type": "markdown",
   "id": "142f50b7",
   "metadata": {},
   "source": [
    "1. IBM Course [Introduction to Deep Learning & Neural Networks with Keras](https://www.coursera.org/learn/introduction-to-deep-learning-with-keras/home/info)\n",
    "\n",
    "2. https://keras.io/api/models/sequential/\n",
    "\n",
    "3. https://towardsdatascience.com/how-to-fix-modulenotfounderror-and-importerror-248ce5b69b1c\n",
    "\n",
    "4. https://www.tensorflow.org/guide/keras/train_and_evaluate"
   ]
  }
 ],
 "metadata": {
  "kernelspec": {
   "display_name": "Python 3 (ipykernel)",
   "language": "python",
   "name": "python3"
  },
  "language_info": {
   "codemirror_mode": {
    "name": "ipython",
    "version": 3
   },
   "file_extension": ".py",
   "mimetype": "text/x-python",
   "name": "python",
   "nbconvert_exporter": "python",
   "pygments_lexer": "ipython3",
   "version": "3.10.2"
  }
 },
 "nbformat": 4,
 "nbformat_minor": 5
}
